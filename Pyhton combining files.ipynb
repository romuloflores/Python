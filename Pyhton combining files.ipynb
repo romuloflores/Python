{
 "cells": [
  {
   "cell_type": "markdown",
   "id": "61d8c155",
   "metadata": {},
   "source": [
    "# Extracting files"
   ]
  },
  {
   "cell_type": "code",
   "execution_count": null,
   "id": "bde02386",
   "metadata": {},
   "outputs": [],
   "source": [
    "import os\n",
    "import glob\n",
    "import pandas as pd\n",
    "\n",
    "#Appeal Folder root\n",
    "rootdir = \"C:\\\\Users\\\\\\Admin\\\\OneDrive\\\\Quality\\\\Raw Data\\\\People Statistics\"\n",
    "\n",
    "#Standard files root\n",
    "teamcode_rootdir = 'C:\\\\Users\\\\\\Admin\\\\OneDrive\\\\Quality\\\\PowerBI\\\\Team code.xlsx'\n",
    "queues_rootdir = 'C:\\\\Users\\\\\\Admin\\\\OneDrive\\\\Quality\\\\PowerBI\\\\Queues - Raw Data.xlsx'\n",
    "\n",
    "#Extraction files root\n",
    "rock_rootdir = 'C:\\\\Users\\\\\\Admin\\\\OneDrive\\\\Quality\\\\Processed Data\\\\Rock - Raw Data.xlsx'\n",
    "\n",
    "\n",
    "all_filenames = []\n",
    "for subdir, dirs, files in os.walk(rootdir):\n",
    "    for file in files:\n",
    "        all_filenames.append(os.path.join(subdir, file))\n",
    "\n",
    "# xlsx files\n",
    "df_all = pd.DataFrame()\n",
    "for file in all_filenames:                         # loop through xlsx files\n",
    "    if file.endswith('.xlsx'):\n",
    "        excel_file = pd.concat(pd.read_excel(file, sheet_name =None), ignore_index=True)\n",
    "        df_all = df_all.append(excel_file, ignore_index=True)  \n"
   ]
  },
  {
   "cell_type": "markdown",
   "id": "c8f4f2c2",
   "metadata": {},
   "source": [
    "# Spotcheck "
   ]
  },
  {
   "cell_type": "code",
   "execution_count": null,
   "id": "c75bbeac",
   "metadata": {
    "scrolled": false
   },
   "outputs": [],
   "source": [
    "for file in all_filenames:\n",
    "    df1= pd.concat(pd.read_excel(file,sheet_name=None), ignore_index = True)\n",
    "    if 'Completed case amount' not in df1.columns:\n",
    "        print(file)"
   ]
  },
  {
   "cell_type": "code",
   "execution_count": null,
   "id": "d5ca31ce",
   "metadata": {},
   "outputs": [],
   "source": [
    "# xlsx files\n",
    "df_lowercase = pd.DataFrame()\n",
    "df_uppercase = pd.DataFrame()\n",
    "for file in all_filenames:                         # loop through xlsx files\n",
    "    if file.endswith('.xlsx'):\n",
    "        excel_file = pd.concat(pd.read_excel(file, sheet_name =None), ignore_index=True)\n",
    "        if 'accuracyRate' in excel_file.columns:\n",
    "            df_lowercase = df_lowercase.append(excel_file, ignore_index=True)\n",
    "        else:\n",
    "            excel_file = excel_file.rename(columns={'Selected duration':'Selected duration'\n",
    "                                         ,'Claimant queue':'claimant Queue'\n",
    "                                         ,'Sampling Queue':'Sampling Queue'\n",
    "                                         ,'People':'People'\n",
    "                                         ,'Completed case amount':'Completed case amount'\n",
    "                                        ,'No. of Diff':'No. of Diff'\n",
    "                                        ,'badcase':'badcase'\n",
    "                                        ,'Mis-judge rate':'mis-judge rate'\n",
    "                                        ,'Accuracy rate before correction':'accuracy rate before correction'\n",
    "                                        ,'Accuracy rate':'accuracyRate'\n",
    "                                        ,'accuracy rate': 'accuracyRate'\n",
    "                                        ,'Edge case rate':'edge case rate'\n",
    "                                        ,'Feedback amount': 'Feedback amount'\n",
    "                                        ,'Feedback rate':'Feedback rate'\n",
    "                                        ,'Successful cases amount':'successful feedback amount'\n",
    "                                        ,'Successful feedback rate':'successful feedback rate'\n",
    "                                        ,'Failed cases amount':'failed feedback amount'\n",
    "                                        ,'Failed feedback rate':'failed feedback rate'\n",
    "                                        ,'Feedback Edge Case':'Feedback Edge Case'\n",
    "                                        ,'blur feedback rate':'blur feedback rate'\n",
    "                                        ,'Both wrong amount after respondent feedback':'both wrong amount after respondent feedback'\n",
    "                                        ,'Both wrong rate after respondent feedback':'both wrong rate after respondent feedback'                \n",
    "                                        ,'Not Appeal':'Not Appeal'\n",
    "                                        ,'Expired':'Expired'\n",
    "                                        ,'Handling rate':'handling rate'\n",
    "                                        ,'To be processed amount':'to be handled amount'\n",
    "                                        ,'To be handled rate':'to be handled rate'})\n",
    "        df_uppercase = df_uppercase.append(excel_file, ignore_index=True)\n",
    "           \n",
    "\n",
    "df_all = pd.concat([df_lowercase, df_uppercase],ignore_index=True)"
   ]
  },
  {
   "cell_type": "markdown",
   "id": "2168ba0e",
   "metadata": {},
   "source": [
    "# Handling Date columns"
   ]
  },
  {
   "cell_type": "code",
   "execution_count": null,
   "id": "a2a17618",
   "metadata": {},
   "outputs": [],
   "source": [
    "lsd=[]\n",
    "for i in df_all['Selected duration']:\n",
    "    a = i.split('~')\n",
    "    lsd.append(a[1])\n",
    "df_all['DateTime'] = pd.Series(lsd)"
   ]
  },
  {
   "cell_type": "code",
   "execution_count": null,
   "id": "8b799485",
   "metadata": {},
   "outputs": [],
   "source": [
    "lsd=[]\n",
    "for i in df_all['Selected duration']:\n",
    "    a = i.split('~')\n",
    "    lsd.append(a[1])\n",
    "\n",
    "df_all['Date']= pd.Series(pd.to_datetime(lsd))\n",
    "df_all['Date'] = df_all['Date'].dt.date\n",
    "\n",
    " #Filtering the dataset\n",
    "df = df_all.loc[df_all['People'] != '汇总/All'].copy()\n",
    "\n",
    "# Reseting the index\n",
    "df = df.reset_index() "
   ]
  },
  {
   "cell_type": "markdown",
   "id": "1f509ce3",
   "metadata": {},
   "source": [
    "# Adding WeekEnding column"
   ]
  },
  {
   "cell_type": "code",
   "execution_count": null,
   "id": "5b569d52",
   "metadata": {},
   "outputs": [],
   "source": [
    "# I must add the data range as August Week 3 otherwise it will update with the first value that meets the conditions. \n",
    "\n",
    "ls = []\n",
    "for i in df['Date']:\n",
    "    d = str(i).split('-')\n",
    "    \n",
    "    #2021\n",
    "    if int(d[0])== 2021:\n",
    "    \n",
    "            #August\n",
    "        if int(d[1]) == 8:\n",
    "            if (int(d[2]) >= 2 and int(d[2]) <= 8):  #August week 1\n",
    "                ls.append('2021-08-08')\n",
    "            elif (int(d[2]) >= 9 and int(d[2]) <= 15):  #August week 2\n",
    "                ls.append('2021-08-15')\n",
    "            elif  (int(d[2]) >= 16 and int(d[2]) <= 22):  #August week 3\n",
    "                ls.append('2021-08-22')\n",
    "            elif (int(d[2]) >= 23 and int(d[2]) <= 29):  #August week 4\n",
    "                ls.append('2021-08-29')\n",
    "            elif (int(d[2]) >= 30 and int(d[2]) <= 31):  #August week 4\n",
    "                ls.append('2021-09-05')\n",
    "\n",
    "           #September\n",
    "        elif int(d[1]) == 9:    \n",
    "            if (int(d[2]) >= 1 and int(d[2]) <= 5):  #September week 1\n",
    "                ls.append('2021-09-05')\n",
    "            elif (int(d[2]) >= 6 and int(d[2]) <= 12):  #September week 2\n",
    "                ls.append('2021-09-12')\n",
    "            elif (int(d[2]) >= 13 and int(d[2]) <= 19):  #September week 3\n",
    "                ls.append('2021-09-19')\n",
    "            elif (int(d[2]) >= 20 and int(d[2]) <= 26):  #September week 4\n",
    "                ls.append('2021-09-26')\n",
    "            elif (int(d[2]) >= 27 and int(d[2]) <= 30):  #September week 4\n",
    "                ls.append('2021-10-03')\n",
    "\n",
    "           #October\n",
    "        elif int(d[1]) == 10:    \n",
    "            if (int(d[2]) >= 1  and int(d[2]) <= 3):  #October week 1\n",
    "                ls.append('2021-10-03')\n",
    "            elif (int(d[2]) >= 4 and int(d[2]) <= 10):  #October week 2\n",
    "                ls.append('2021-10-10')\n",
    "            elif (int(d[2]) >= 11 and int(d[2]) <= 17):  #October week 3\n",
    "                ls.append('2021-10-17')\n",
    "            elif (int(d[2]) >= 18 and int(d[2]) <= 24):  #October week 4\n",
    "                ls.append('2021-10-24')\n",
    "            elif (int(d[2]) >= 25 and int(d[2]) <= 31):  #October week 5\n",
    "                ls.append('2021-10-31')\n",
    "\n",
    "           #November\n",
    "        elif int(d[1]) == 11:    \n",
    "            if (int(d[2]) >= 1  and int(d[2]) <= 7):  #November week 1\n",
    "                ls.append('2021-11-07')\n",
    "            elif (int(d[2]) >= 8 and int(d[2]) <= 14):  #November week 2\n",
    "                ls.append('2021-11-14')\n",
    "            elif (int(d[2]) >= 15 and int(d[2]) <= 21):  #November week 3\n",
    "                ls.append('2021-11-21')\n",
    "            elif (int(d[2]) >= 22 and int(d[2]) <= 28):  #November week 4\n",
    "                ls.append('2021-11-28')\n",
    "            elif (int(d[2]) >= 29 and int(d[2]) <= 30):  #November week 5\n",
    "                ls.append('2021-12-05')\n",
    "\n",
    "           #December\n",
    "        elif int(d[1]) == 12:    \n",
    "            if (int(d[2]) >= 1  and int(d[2]) <= 5):  #December week 1\n",
    "                ls.append('2021-12-05')\n",
    "            elif (int(d[2]) >= 6 and int(d[2]) <= 12):  #December week 2\n",
    "                ls.append('2021-12-12')\n",
    "            elif (int(d[2]) >= 13 and int(d[2]) <= 19):  #December week 3\n",
    "                ls.append('2021-12-19')\n",
    "            elif (int(d[2]) >= 20 and int(d[2]) <= 26):  #December week 4\n",
    "                ls.append('2021-12-26')\n",
    "            elif (int(d[2]) >= 27 and int(d[2]) <= 31):  #December week 5\n",
    "                ls.append('2022-01-02')\n",
    "        else:\n",
    "            ls.append('Wrong')\n",
    "            \n",
    "      #2022\n",
    "    elif int(d[0])== 2022:\n",
    "        \n",
    "         #January\n",
    "        if int(d[1]) == 1:\n",
    "            if (int(d[2]) >= 1 and int(d[2]) <= 2):  #Jan week 1\n",
    "                ls.append('2022-01-02')\n",
    "            elif (int(d[2]) >= 3 and int(d[2]) <= 9):  #Jan week 2\n",
    "                ls.append('2022-01-09')\n",
    "            elif  (int(d[2]) >= 10 and int(d[2]) <= 16):  #Jan week 3\n",
    "                ls.append('2022-01-16')\n",
    "            elif (int(d[2]) >= 17 and int(d[2]) <= 23):  #Jan week 4\n",
    "                ls.append('2022-01-23')\n",
    "            elif (int(d[2]) >= 24 and int(d[2]) <= 30):  #Jan week 4\n",
    "                ls.append('2022-01-30')\n",
    "            elif (int(d[2]) == 31):  #Jan week 4\n",
    "                ls.append('2022-02-06')\n",
    "        \n",
    "        #February\n",
    "        elif int(d[1]) == 2: \n",
    "            \n",
    "            if (int(d[2]) >= 1 and int(d[2]) <= 6):  #September week 1\n",
    "                ls.append('2022-02-06')\n",
    "            elif (int(d[2]) >= 7 and int(d[2]) <=13):  #September week 2\n",
    "                ls.append('2022-02-13')\n",
    "            elif (int(d[2]) >= 14 and int(d[2]) <= 20):  #September week 3\n",
    "                ls.append('2022-02-20')\n",
    "            elif (int(d[2]) >= 21 and int(d[2]) <= 27):  #September week 4\n",
    "                ls.append('2022-02-27')\n",
    "            elif (int(d[2]) == 28):  #September week 4\n",
    "                ls.append('2022-03-06')\n",
    "        \n",
    "        #March\n",
    "        elif int(d[1]) == 3:    \n",
    "            if (int(d[2]) >= 1 and int(d[2]) <= 6):  #September week 1\n",
    "                ls.append('2022-03-06')\n",
    "            elif (int(d[2]) >= 7 and int(d[2]) <=13):  #September week 2\n",
    "                ls.append('2022-03-13')\n",
    "            elif (int(d[2]) >= 14 and int(d[2]) <= 20):  #September week 3\n",
    "                ls.append('2022-03-20')\n",
    "            elif (int(d[2]) >= 21 and int(d[2]) <= 27):  #September week 4\n",
    "                ls.append('2022-03-27')\n",
    "            elif (int(d[2]) >= 28 and int(d[2]) <= 31):  #September week 4\n",
    "                ls.append('2022-04-03')\n",
    "            \n",
    "        #April\n",
    "        elif int(d[1]) == 4:    \n",
    "            if (int(d[2]) >= 1 and int(d[2]) <= 3):  #April week 1\n",
    "                ls.append('2022-04-03')\n",
    "            elif (int(d[2]) >= 4 and int(d[2]) <=10): #April week 2\n",
    "                ls.append('2022-04-10')\n",
    "            elif (int(d[2]) >= 11 and int(d[2]) <= 17): #April week 3\n",
    "                ls.append('2022-04-17')\n",
    "            elif (int(d[2]) >= 18 and int(d[2]) <= 24):  #April week 4\n",
    "                ls.append('2022-04-24')\n",
    "            elif (int(d[2]) >= 25 and int(d[2]) <= 30):  #April week 5\n",
    "                ls.append('2022-05-01')\n",
    "                \n",
    "        #May\n",
    "        elif int(d[1]) == 5:    \n",
    "            if (int(d[2]) >= 1 and int(d[2]) <= 1):  #May week 1\n",
    "                ls.append('2022-05-01')\n",
    "            elif (int(d[2]) >= 2 and int(d[2]) <=8): #May week 2\n",
    "                ls.append('2022-05-08')\n",
    "            elif (int(d[2]) >= 9 and int(d[2]) <= 15): #May week 3\n",
    "                ls.append('2022-05-15')\n",
    "            elif (int(d[2]) >= 16 and int(d[2]) <= 22):  #May week 4\n",
    "                ls.append('2022-05-22')\n",
    "            elif (int(d[2]) >= 23 and int(d[2]) <= 29):  #May week 5\n",
    "                ls.append('2022-05-29')\n",
    "            elif (int(d[2]) >= 30 and int(d[2]) <= 31):  #May week 5\n",
    "                ls.append('2022-06-05')\n",
    "        #June\n",
    "        elif int(d[1]) == 6:    \n",
    "            if (int(d[2]) >= 1 and int(d[2]) <= 5):  #June week 1\n",
    "                ls.append('2022-06-05')\n",
    "            elif (int(d[2]) >= 6 and int(d[2]) <=12): #June week 2\n",
    "                ls.append('2022-06-12')\n",
    "            elif (int(d[2]) >= 13 and int(d[2]) <= 19): #June week 3\n",
    "                ls.append('2022-06-19')\n",
    "            elif (int(d[2]) >= 20 and int(d[2]) <= 26):  #June week 4\n",
    "                ls.append('2022-06-26')\n",
    "            elif (int(d[2]) >= 27 and int(d[2]) <= 30):  #June week 5\n",
    "                ls.append('2022-07-03')\n",
    "                \n",
    "        #July\n",
    "        elif int(d[1]) == 7:    \n",
    "            if (int(d[2]) >= 1 and int(d[2]) <= 3):  #July week 1\n",
    "                ls.append('2022-07-03')\n",
    "            elif (int(d[2]) >= 4 and int(d[2]) <=10): #July week 2\n",
    "                ls.append('2022-07-10')\n",
    "            elif (int(d[2]) >= 11 and int(d[2]) <= 17): #July week 3\n",
    "                ls.append('2022-07-17')\n",
    "            elif (int(d[2]) >= 18 and int(d[2]) <= 24):  #July week 4\n",
    "                ls.append('2022-07-24')\n",
    "            elif (int(d[2]) >= 27 and int(d[2]) <= 30):  #July week 5\n",
    "                ls.append('2022-07-03')\n",
    "        \n",
    "        else:\n",
    "            ls.append('Wrong')        \n",
    "df['WeekEnding']= pd.Series(ls) #Adding Week ending to the dataset. "
   ]
  },
  {
   "cell_type": "markdown",
   "id": "247a0623",
   "metadata": {},
   "source": [
    "# Reordering the columns"
   ]
  },
  {
   "cell_type": "code",
   "execution_count": null,
   "id": "1a67aa18",
   "metadata": {},
   "outputs": [],
   "source": [
    "df = df[['WeekEnding','Date', 'claimant Queue', 'Sampling Queue', 'People',\n",
    "       'Completed case amount', 'No. of Diff', 'badcase', 'mis-judge rate',\n",
    "       'accuracy rate before correction', 'accuracyRate', 'edge case rate',\n",
    "       'Feedback amount', 'Feedback rate', 'successful feedback amount',\n",
    "       'successful feedback rate', 'failed feedback amount',\n",
    "       'failed feedback rate', 'Feedback Edge Case', 'blur feedback rate',\n",
    "       'both wrong amount after respondent feedback',\n",
    "       'both wrong rate after respondent feedback', 'Not Appeal', 'Expired',\n",
    "       'handling rate', 'to be handled amount', 'to be handled rate']].copy()"
   ]
  },
  {
   "cell_type": "markdown",
   "id": "5d5fd4eb",
   "metadata": {},
   "source": [
    "# Creating new columns (TL, Code, Market)"
   ]
  },
  {
   "cell_type": "code",
   "execution_count": null,
   "id": "6f8bbc88",
   "metadata": {},
   "outputs": [],
   "source": [
    "#Path and doc with team codes\n",
    "df_tc = pd.read_excel(teamcode_rootdir)\n",
    "\n",
    "df = df.join(df_tc.set_index('QA')['TL'], on='People') # Adding TL\n",
    "df = df.join(df_tc.set_index('QA')['Code'], on='People') # Adding Code\n",
    "df = df.join(df_tc.set_index('QA')['Market'], on='People') # Adding Market\n",
    "df.fillna('Unmapped', inplace = True) # Controling null values due to lack of data\n",
    "\n",
    "#Updating Market - TL\n",
    "df.loc[(df['People'] == 'sergio.barreto'), 'Market'] = 'LATAM'\n",
    "df.loc[(df['People'] == 'nikki.daze'), 'Market'] = 'RU'\n",
    "df.loc[(df['People'] == 'maria.caballero'), 'Market'] = 'ES'"
   ]
  },
  {
   "cell_type": "code",
   "execution_count": null,
   "id": "ded98701",
   "metadata": {},
   "outputs": [],
   "source": [
    "df"
   ]
  },
  {
   "cell_type": "markdown",
   "id": "3bd23801",
   "metadata": {},
   "source": [
    "# Adding column BPO"
   ]
  },
  {
   "cell_type": "code",
   "execution_count": null,
   "id": "9ad66b2c",
   "metadata": {},
   "outputs": [],
   "source": [
    "#Path and doc with team codes\n",
    "df_qrd = pd.read_excel(queues_rootdir)\n",
    "df = df.join(df_qrd.set_index('Queue Name')['BPO'], on='Sampling Queue') # Adding BPO\n",
    "df = df.join(df_qrd.set_index('Queue Name')['Type'], on='Sampling Queue') # Adding Queue type\n",
    "df.fillna('Unmapped', inplace = True) # Controling null values due to lack of data"
   ]
  },
  {
   "cell_type": "markdown",
   "id": "e008bc8e",
   "metadata": {},
   "source": [
    "# Shaping the dataframe"
   ]
  },
  {
   "cell_type": "code",
   "execution_count": null,
   "id": "c51b20b0",
   "metadata": {},
   "outputs": [],
   "source": [
    "df = df.rename(columns={'WeekEnding': 'WE'\n",
    "                        , 'Date':'Selected duration'\n",
    "                        , 'People': 'Person'\n",
    "                        , 'No. of Diff': 'No. of Errors'\n",
    "                        , 'Feedback Edge Case': 'edge case amount'\n",
    "                        , 'both wrong amount after respondent feedback': 'both mistake amount after respondent feedback'\n",
    "                        , 'both wrong rate after respondent feedback':'both mistake rate after respondent feedback'\n",
    "                        , 'Code': 'Code Resp'\n",
    "                        , 'accuracy rate': 'accuracyRate'})\n",
    "df['WE'] = pd.to_datetime(df['WE'])"
   ]
  },
  {
   "cell_type": "code",
   "execution_count": null,
   "id": "77467e37",
   "metadata": {
    "scrolled": true
   },
   "outputs": [],
   "source": [
    "df.info()"
   ]
  },
  {
   "cell_type": "markdown",
   "id": "fe8b1523",
   "metadata": {},
   "source": [
    "# Exporting to excel file"
   ]
  },
  {
   "cell_type": "code",
   "execution_count": null,
   "id": "730513c9",
   "metadata": {},
   "outputs": [],
   "source": [
    "with pd.ExcelWriter(rock_rootdir,\n",
    "                        date_format='dd/mm/yyy',\n",
    "                        datetime_format='dd/mm/yyyy') as writer:\n",
    "    df.to_excel(writer, index=False, encoding='utf-8-sig', sheet_name= 'Rock - Raw')  "
   ]
  },
  {
   "cell_type": "code",
   "execution_count": null,
   "id": "826faea3",
   "metadata": {},
   "outputs": [],
   "source": []
  }
 ],
 "metadata": {
  "kernelspec": {
   "display_name": "Python 3 (ipykernel)",
   "language": "python",
   "name": "python3"
  },
  "language_info": {
   "codemirror_mode": {
    "name": "ipython",
    "version": 3
   },
   "file_extension": ".py",
   "mimetype": "text/x-python",
   "name": "python",
   "nbconvert_exporter": "python",
   "pygments_lexer": "ipython3",
   "version": "3.10.5"
  },
  "toc": {
   "base_numbering": 1,
   "nav_menu": {},
   "number_sections": true,
   "sideBar": true,
   "skip_h1_title": false,
   "title_cell": "Table of Contents",
   "title_sidebar": "Contents",
   "toc_cell": false,
   "toc_position": {},
   "toc_section_display": true,
   "toc_window_display": true
  },
  "varInspector": {
   "cols": {
    "lenName": 16,
    "lenType": 16,
    "lenVar": 40
   },
   "kernels_config": {
    "python": {
     "delete_cmd_postfix": "",
     "delete_cmd_prefix": "del ",
     "library": "var_list.py",
     "varRefreshCmd": "print(var_dic_list())"
    },
    "r": {
     "delete_cmd_postfix": ") ",
     "delete_cmd_prefix": "rm(",
     "library": "var_list.r",
     "varRefreshCmd": "cat(var_dic_list()) "
    }
   },
   "types_to_exclude": [
    "module",
    "function",
    "builtin_function_or_method",
    "instance",
    "_Feature"
   ],
   "window_display": false
  }
 },
 "nbformat": 4,
 "nbformat_minor": 5
}
